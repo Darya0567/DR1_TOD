{
 "cells": [
  {
   "cell_type": "code",
   "execution_count": 12,
   "id": "5e4dd2a7-80f8-48dd-8e34-fa66c88ef2ab",
   "metadata": {},
   "outputs": [],
   "source": [
    "from typing import List"
   ]
  },
  {
   "cell_type": "markdown",
   "id": "7e21a02e-721c-44dd-8fa8-791d8800e57b",
   "metadata": {},
   "source": [
    "**Задача 1:**\n",
    "Нужно реализовать функцию, которая подсчитывает результат вычисления арифметического выражения, записанного в обратной польской записи. \n",
    "Для решения задачи нужно использовать стек, реализованный самостоятельно с помощью списка.\n",
    "Тестовые данные будут подаваться в упрощенном формате:\n",
    "1. Из операций доступны только `+ - *`. \n",
    "2. Все числа и операции подаются на вход строго разделенные одним пробелом. Например, \"6 2 3 * -\".\n",
    "3. Входные данные могут быть записаны неправильно"
   ]
  },
  {
   "cell_type": "code",
   "execution_count": 6,
   "id": "00184a5b-0d1b-4f84-9875-ea53d7287812",
   "metadata": {},
   "outputs": [],
   "source": [
    "class Stack:\n",
    "    def __init__(self):\n",
    "        self.items = []\n",
    "    \n",
    "    def is_empty(self):\n",
    "        return len(self.items) == 0\n",
    "    \n",
    "    def push(self, item):\n",
    "        self.items.append(item)\n",
    "    \n",
    "    def pop(self):\n",
    "        if not self.is_empty():\n",
    "            return self.items.pop()\n",
    "        else:\n",
    "            return None\n",
    "    \n",
    "    def ret(self):\n",
    "        if not self.is_empty():\n",
    "            return self.items[-1]\n",
    "        else:\n",
    "            return None\n",
    "    \n",
    "    def size(self):\n",
    "        return len(self.items)\n",
    "\n",
    "def reverse_polish(expression):\n",
    "    stack = Stack()\n",
    "    operators = {'+', '-', '*'}\n",
    "\n",
    "    for token in expression.split():\n",
    "        if token in operators:\n",
    "            if stack.size() < 2:\n",
    "                return -1\n",
    "\n",
    "            operand2 = stack.pop()\n",
    "            operand1 = stack.pop()\n",
    "            \n",
    "            if token == '+':\n",
    "                result = operand1 + operand2\n",
    "            elif token == '-':\n",
    "                result = operand1 - operand2\n",
    "            elif token == '*':\n",
    "                result = operand1 * operand2\n",
    "            else:\n",
    "                return -1\n",
    "                \n",
    "            stack.push(result)\n",
    "        else:\n",
    "            try:\n",
    "                 number = int(token)\n",
    "                 stack.push(number)\n",
    "            except error:\n",
    "                return -1\n",
    "\n",
    "    if stack.size() == 1:\n",
    "        return stack.pop()\n",
    "    else:\n",
    "        return -1"
   ]
  },
  {
   "cell_type": "code",
   "execution_count": 7,
   "id": "c58cf661-a1d5-4c09-82df-05767e5b2e60",
   "metadata": {},
   "outputs": [
    {
     "name": "stdout",
     "output_type": "stream",
     "text": [
      "0\n",
      "16\n",
      "5\n"
     ]
    }
   ],
   "source": [
    "expression_1 = \"6 2 3 * -\"\n",
    "expression_2 = \"5 3 * 7 3 * - 22 +\"\n",
    "expression_3 = \"5\"\n",
    "\n",
    "result1 = reverse_polish(expression_1)\n",
    "result2 = reverse_polish(expression_2)\n",
    "result3 = reverse_polish(expression_3)\n",
    "\n",
    "print(result1)\n",
    "print(result2)\n",
    "print(result3)"
   ]
  },
  {
   "cell_type": "markdown",
   "id": "d7684aef-aa28-4ef6-ad1d-fd49d4713e76",
   "metadata": {},
   "source": [
    "**Задача 2 (вариант 5):**\n",
    "Напишите функцию, которая умеет искать элемент в списке, который отсортирован, но в каком порядке — неизвестно.\n",
    "def find_ number (sorted _numbers: List[int], search: int) -> int:\n",
    "Список, который гарантированно отсортирован либо по возрастанию, либо по убыванию (выяснить самостоятельно, как именно он отсортирован)."
   ]
  },
  {
   "cell_type": "code",
   "execution_count": 13,
   "id": "7e16a547-b581-43ea-bd7e-1aaa01b89a57",
   "metadata": {},
   "outputs": [],
   "source": [
    "def find_number (sorted_numbers: List[int], search: int) -> int:\n",
    "    if sorted_numbers[0] < sorted_numbers[-1]:\n",
    "        return binary_search_ascending(sorted_numbers, search)\n",
    "    else:\n",
    "        return binary_search_descending(sorted_numbers, search)\n",
    "\n",
    "def binary_search_ascending (arr: List[int], number: int) -> int:\n",
    "    left, right = 0, len(arr) - 1\n",
    "    while left <= right:\n",
    "        mid = (left + right) // 2\n",
    "        if arr[mid] == number:\n",
    "            return mid\n",
    "        elif arr[mid] < number:\n",
    "            left = mid + 1\n",
    "        else: \n",
    "            right = mid - 1\n",
    "    return -1\n",
    "\n",
    "def binary_search_descending (arr: List[int], number: int) -> int:\n",
    "    left, right = 0, len(arr) - 1\n",
    "    while left <= right:\n",
    "        mid = (left + right) // 2\n",
    "        if arr[mid] == number:\n",
    "            return mid\n",
    "        elif arr[mid] > number:\n",
    "            left = mid + 1\n",
    "        else: \n",
    "            right = mid - 1\n",
    "    return -1"
   ]
  },
  {
   "cell_type": "code",
   "execution_count": 14,
   "id": "990319b5-8635-45a2-9f3d-f810c6b48b27",
   "metadata": {},
   "outputs": [
    {
     "name": "stdout",
     "output_type": "stream",
     "text": [
      "4\n",
      "-1\n"
     ]
    }
   ],
   "source": [
    "array_1 = [1, 3, 5, 6, 7, 11, 20]\n",
    "array_2 = [20, 11, 0, 6, 5, 3, 1]\n",
    "search = 7\n",
    "\n",
    "print(find_number(array_1, search))\n",
    "print(find_number(array_2, search))"
   ]
  }
 ],
 "metadata": {
  "kernelspec": {
   "display_name": "Python 3 (ipykernel)",
   "language": "python",
   "name": "python3"
  },
  "language_info": {
   "codemirror_mode": {
    "name": "ipython",
    "version": 3
   },
   "file_extension": ".py",
   "mimetype": "text/x-python",
   "name": "python",
   "nbconvert_exporter": "python",
   "pygments_lexer": "ipython3",
   "version": "3.12.4"
  }
 },
 "nbformat": 4,
 "nbformat_minor": 5
}
